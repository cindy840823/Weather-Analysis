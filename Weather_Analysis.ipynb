{
  "nbformat": 4,
  "nbformat_minor": 0,
  "metadata": {
    "colab": {
      "provenance": [],
      "authorship_tag": "ABX9TyNwWHNROdIbfddlGmhV2hkY",
      "include_colab_link": true
    },
    "kernelspec": {
      "name": "python3",
      "display_name": "Python 3"
    },
    "language_info": {
      "name": "python"
    },
    "widgets": {
      "application/vnd.jupyter.widget-state+json": {
        "e1381e7bc3e84ac19045a7cf6f8f28ec": {
          "model_module": "@jupyter-widgets/controls",
          "model_name": "VBoxModel",
          "model_module_version": "1.5.0",
          "state": {
            "_dom_classes": [
              "widget-interact"
            ],
            "_model_module": "@jupyter-widgets/controls",
            "_model_module_version": "1.5.0",
            "_model_name": "VBoxModel",
            "_view_count": null,
            "_view_module": "@jupyter-widgets/controls",
            "_view_module_version": "1.5.0",
            "_view_name": "VBoxView",
            "box_style": "",
            "children": [
              "IPY_MODEL_e1afcb316ad84a03bce919b543aca800",
              "IPY_MODEL_03be8498f21347d1a50898a53e3db34c"
            ],
            "layout": "IPY_MODEL_3e2065e8864f40b790e634f48e83a909"
          }
        },
        "e1afcb316ad84a03bce919b543aca800": {
          "model_module": "@jupyter-widgets/controls",
          "model_name": "DropdownModel",
          "model_module_version": "1.5.0",
          "state": {
            "_dom_classes": [],
            "_model_module": "@jupyter-widgets/controls",
            "_model_module_version": "1.5.0",
            "_model_name": "DropdownModel",
            "_options_labels": [
              "New York",
              "Los Angeles",
              "Chicago",
              "Houston",
              "Phoenix"
            ],
            "_view_count": null,
            "_view_module": "@jupyter-widgets/controls",
            "_view_module_version": "1.5.0",
            "_view_name": "DropdownView",
            "description": "selected_city",
            "description_tooltip": null,
            "disabled": false,
            "index": 0,
            "layout": "IPY_MODEL_34f1e22fc2664b5ab412ab93f2339043",
            "style": "IPY_MODEL_bef84cac8e384710b518da98db80a9a3"
          }
        },
        "03be8498f21347d1a50898a53e3db34c": {
          "model_module": "@jupyter-widgets/output",
          "model_name": "OutputModel",
          "model_module_version": "1.0.0",
          "state": {
            "_dom_classes": [],
            "_model_module": "@jupyter-widgets/output",
            "_model_module_version": "1.0.0",
            "_model_name": "OutputModel",
            "_view_count": null,
            "_view_module": "@jupyter-widgets/output",
            "_view_module_version": "1.0.0",
            "_view_name": "OutputView",
            "layout": "IPY_MODEL_01f85b09cabc4f17839bc9492262bcbf",
            "msg_id": "",
            "outputs": [
              {
                "output_type": "stream",
                "name": "stdout",
                "text": [
                  "    City  Temperature (C)  Humidity (%)   Weather\n",
                  "New York            -0.76            41 clear sky\n"
                ]
              },
              {
                "output_type": "display_data",
                "data": {
                  "text/plain": "<Figure size 640x480 with 1 Axes>",
                  "image/png": "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\n"
                },
                "metadata": {}
              }
            ]
          }
        },
        "3e2065e8864f40b790e634f48e83a909": {
          "model_module": "@jupyter-widgets/base",
          "model_name": "LayoutModel",
          "model_module_version": "1.2.0",
          "state": {
            "_model_module": "@jupyter-widgets/base",
            "_model_module_version": "1.2.0",
            "_model_name": "LayoutModel",
            "_view_count": null,
            "_view_module": "@jupyter-widgets/base",
            "_view_module_version": "1.2.0",
            "_view_name": "LayoutView",
            "align_content": null,
            "align_items": null,
            "align_self": null,
            "border": null,
            "bottom": null,
            "display": null,
            "flex": null,
            "flex_flow": null,
            "grid_area": null,
            "grid_auto_columns": null,
            "grid_auto_flow": null,
            "grid_auto_rows": null,
            "grid_column": null,
            "grid_gap": null,
            "grid_row": null,
            "grid_template_areas": null,
            "grid_template_columns": null,
            "grid_template_rows": null,
            "height": null,
            "justify_content": null,
            "justify_items": null,
            "left": null,
            "margin": null,
            "max_height": null,
            "max_width": null,
            "min_height": null,
            "min_width": null,
            "object_fit": null,
            "object_position": null,
            "order": null,
            "overflow": null,
            "overflow_x": null,
            "overflow_y": null,
            "padding": null,
            "right": null,
            "top": null,
            "visibility": null,
            "width": null
          }
        },
        "34f1e22fc2664b5ab412ab93f2339043": {
          "model_module": "@jupyter-widgets/base",
          "model_name": "LayoutModel",
          "model_module_version": "1.2.0",
          "state": {
            "_model_module": "@jupyter-widgets/base",
            "_model_module_version": "1.2.0",
            "_model_name": "LayoutModel",
            "_view_count": null,
            "_view_module": "@jupyter-widgets/base",
            "_view_module_version": "1.2.0",
            "_view_name": "LayoutView",
            "align_content": null,
            "align_items": null,
            "align_self": null,
            "border": null,
            "bottom": null,
            "display": null,
            "flex": null,
            "flex_flow": null,
            "grid_area": null,
            "grid_auto_columns": null,
            "grid_auto_flow": null,
            "grid_auto_rows": null,
            "grid_column": null,
            "grid_gap": null,
            "grid_row": null,
            "grid_template_areas": null,
            "grid_template_columns": null,
            "grid_template_rows": null,
            "height": null,
            "justify_content": null,
            "justify_items": null,
            "left": null,
            "margin": null,
            "max_height": null,
            "max_width": null,
            "min_height": null,
            "min_width": null,
            "object_fit": null,
            "object_position": null,
            "order": null,
            "overflow": null,
            "overflow_x": null,
            "overflow_y": null,
            "padding": null,
            "right": null,
            "top": null,
            "visibility": null,
            "width": null
          }
        },
        "bef84cac8e384710b518da98db80a9a3": {
          "model_module": "@jupyter-widgets/controls",
          "model_name": "DescriptionStyleModel",
          "model_module_version": "1.5.0",
          "state": {
            "_model_module": "@jupyter-widgets/controls",
            "_model_module_version": "1.5.0",
            "_model_name": "DescriptionStyleModel",
            "_view_count": null,
            "_view_module": "@jupyter-widgets/base",
            "_view_module_version": "1.2.0",
            "_view_name": "StyleView",
            "description_width": ""
          }
        },
        "01f85b09cabc4f17839bc9492262bcbf": {
          "model_module": "@jupyter-widgets/base",
          "model_name": "LayoutModel",
          "model_module_version": "1.2.0",
          "state": {
            "_model_module": "@jupyter-widgets/base",
            "_model_module_version": "1.2.0",
            "_model_name": "LayoutModel",
            "_view_count": null,
            "_view_module": "@jupyter-widgets/base",
            "_view_module_version": "1.2.0",
            "_view_name": "LayoutView",
            "align_content": null,
            "align_items": null,
            "align_self": null,
            "border": null,
            "bottom": null,
            "display": null,
            "flex": null,
            "flex_flow": null,
            "grid_area": null,
            "grid_auto_columns": null,
            "grid_auto_flow": null,
            "grid_auto_rows": null,
            "grid_column": null,
            "grid_gap": null,
            "grid_row": null,
            "grid_template_areas": null,
            "grid_template_columns": null,
            "grid_template_rows": null,
            "height": null,
            "justify_content": null,
            "justify_items": null,
            "left": null,
            "margin": null,
            "max_height": null,
            "max_width": null,
            "min_height": null,
            "min_width": null,
            "object_fit": null,
            "object_position": null,
            "order": null,
            "overflow": null,
            "overflow_x": null,
            "overflow_y": null,
            "padding": null,
            "right": null,
            "top": null,
            "visibility": null,
            "width": null
          }
        }
      }
    }
  },
  "cells": [
    {
      "cell_type": "markdown",
      "metadata": {
        "id": "view-in-github",
        "colab_type": "text"
      },
      "source": [
        "<a href=\"https://colab.research.google.com/github/cindy840823/Weather-Analysis/blob/main/Weather_Analysis.ipynb\" target=\"_parent\"><img src=\"https://colab.research.google.com/assets/colab-badge.svg\" alt=\"Open In Colab\"/></a>"
      ]
    },
    {
      "cell_type": "markdown",
      "source": [
        "# Weather Data Fetch and Analysis\n",
        "## **Introduction**\n",
        "\n",
        "This project uses Python to fetch, analyze, and visualize real-time weather data using the OpenWeatherMap API. It highlights essential skills for Data Analyst and Data Scientist roles, including data analysis, visualization, and interactivity. This notebook is designed to be run entirely in Google Colab."
      ],
      "metadata": {
        "id": "GfX9mb62jehH"
      }
    },
    {
      "cell_type": "markdown",
      "source": [
        "## **Goals**\n",
        "- Fetch and analyze real-time weather data for multiple cities using REST APIs.\n",
        "\n",
        "- Perform statistical analysis on key weather metrics such as temperature and humidity.\n",
        "\n",
        "- Visualize weather patterns using bar charts.\n",
        "\n",
        "- Enable interactive exploration of city-specific weather data.\n",
        "\n",
        "- Showcase Python programming, data analysis, and visualization skills."
      ],
      "metadata": {
        "id": "yZ9UpU30jqvI"
      }
    },
    {
      "cell_type": "code",
      "execution_count": null,
      "metadata": {
        "id": "6xAvYPJqlOOY"
      },
      "outputs": [],
      "source": [
        "import requests\n",
        "import pandas as pd\n",
        "import time\n",
        "import matplotlib.pyplot as plt\n",
        "import seaborn as sns\n",
        "from ipywidgets import interact"
      ]
    },
    {
      "cell_type": "markdown",
      "source": [
        "## **Methodology**\n",
        "### Step 1: Fetch Weather Data\n",
        "Fetch and process weather data for multiple cities using the OpenWeatherMap API. Extract key metrics such as:\n",
        "\n",
        "- Temperature (°C)\n",
        "\n",
        "- Humidity (%)\n",
        "\n",
        "- Weather description"
      ],
      "metadata": {
        "id": "EVYCB9xGkUQ8"
      }
    },
    {
      "cell_type": "code",
      "source": [
        "api_key = \"ae01ae487dc68e621887e51029426593\"\n",
        "BASE_URL = \"http://api.openweathermap.org/data/2.5/weather\""
      ],
      "metadata": {
        "id": "529RjeMs_nA0"
      },
      "execution_count": null,
      "outputs": []
    },
    {
      "cell_type": "code",
      "source": [
        "# List of cities to fetch weather data\n",
        "cities = [\"New York\", \"Los Angeles\", \"Chicago\", \"Houston\", \"Phoenix\"]"
      ],
      "metadata": {
        "id": "DtL1ylmWB0cD"
      },
      "execution_count": null,
      "outputs": []
    },
    {
      "cell_type": "code",
      "source": [
        "def fetch_weather_data(city):\n",
        "    params = {\"q\": city, \"appid\": api_key}\n",
        "    response = requests.get(BASE_URL, params=params)\n",
        "    if response.status_code == 200:\n",
        "        data = response.json()\n",
        "        return {\n",
        "            \"City\": city,\n",
        "            \"Temperature (C)\": data['main']['temp'] - 273.15,\n",
        "            \"Humidity (%)\": data['main']['humidity'],\n",
        "            \"Weather\": data['weather'][0]['description'],\n",
        "        }\n",
        "    else:\n",
        "        print(f\"Failed to fetch data for {city}: {response.status_code}\")\n",
        "        return None"
      ],
      "metadata": {
        "id": "M0hu0OtLB1am"
      },
      "execution_count": null,
      "outputs": []
    },
    {
      "cell_type": "code",
      "source": [
        "# Fetch weather data for all cities\n",
        "weather_data = []\n",
        "for city in cities:\n",
        "    data = fetch_weather_data(city)\n",
        "    if data:\n",
        "        weather_data.append(data)\n",
        "    time.sleep(1)  # To avoid hitting API rate limits"
      ],
      "metadata": {
        "id": "nQTQb5b5m4a9"
      },
      "execution_count": null,
      "outputs": []
    },
    {
      "cell_type": "code",
      "source": [
        "# Convert to DataFrame\n",
        "df_weather = pd.DataFrame(weather_data)\n",
        "print(\"Weather Data:\")\n",
        "print(df_weather)"
      ],
      "metadata": {
        "colab": {
          "base_uri": "https://localhost:8080/"
        },
        "id": "o1jzYxOmylwf",
        "outputId": "e48c564d-1e12-498c-ca6a-0a98c6dd39ca"
      },
      "execution_count": null,
      "outputs": [
        {
          "output_type": "stream",
          "name": "stdout",
          "text": [
            "Weather Data:\n",
            "          City  Temperature (C)  Humidity (%)          Weather\n",
            "0     New York            -0.76            41        clear sky\n",
            "1  Los Angeles            18.66            23        clear sky\n",
            "2      Chicago            -8.85            61       few clouds\n",
            "3      Houston            10.85            71  overcast clouds\n",
            "4      Phoenix            18.54            13        clear sky\n"
          ]
        }
      ]
    },
    {
      "cell_type": "markdown",
      "source": [
        "### Step 2: Statistical Analysis\n",
        "\n",
        "Perform statistical analysis to summarize weather data and calculate correlations."
      ],
      "metadata": {
        "id": "771PdLe4eLCG"
      }
    },
    {
      "cell_type": "code",
      "source": [
        "# Statistical Summary\n",
        "print(\"Statistical Summary:\")\n",
        "print(df_weather.describe())"
      ],
      "metadata": {
        "colab": {
          "base_uri": "https://localhost:8080/"
        },
        "id": "i_8k8-G8yt7C",
        "outputId": "2c7d194d-988e-43e1-b120-6e9a9a76a954"
      },
      "execution_count": null,
      "outputs": [
        {
          "output_type": "stream",
          "name": "stdout",
          "text": [
            "Statistical Summary:\n",
            "       Temperature (C)  Humidity (%)\n",
            "count         5.000000       5.00000\n",
            "mean          7.688000      41.80000\n",
            "std          12.176033      24.51938\n",
            "min          -8.850000      13.00000\n",
            "25%          -0.760000      23.00000\n",
            "50%          10.850000      41.00000\n",
            "75%          18.540000      61.00000\n",
            "max          18.660000      71.00000\n"
          ]
        }
      ]
    },
    {
      "cell_type": "code",
      "source": [
        "# Correlation Analysis (on numeric columns only)\n",
        "numeric_columns = df_weather.select_dtypes(include=[\"float\", \"int\"])\n",
        "correlation = numeric_columns.corr()\n",
        "print(\"\\nCorrelation Matrix:\")\n",
        "print(correlation)"
      ],
      "metadata": {
        "colab": {
          "base_uri": "https://localhost:8080/"
        },
        "id": "K15g7rz-Yi5v",
        "outputId": "e3bcfdf6-e0dd-4716-bfd6-4a915168ad7c"
      },
      "execution_count": null,
      "outputs": [
        {
          "output_type": "stream",
          "name": "stdout",
          "text": [
            "\n",
            "Correlation Matrix:\n",
            "                 Temperature (C)  Humidity (%)\n",
            "Temperature (C)         1.000000     -0.617363\n",
            "Humidity (%)           -0.617363      1.000000\n"
          ]
        }
      ]
    },
    {
      "cell_type": "markdown",
      "source": [
        "### Step 3: Data Visualization\n",
        "Visualize weather patterns across cities using bar charts for temperature and humidity."
      ],
      "metadata": {
        "id": "o7hUBU0jwCqZ"
      }
    },
    {
      "cell_type": "markdown",
      "source": [
        "**Temperature Bar Chart:**"
      ],
      "metadata": {
        "id": "dqOoZHa_fxbm"
      }
    },
    {
      "cell_type": "code",
      "source": [
        "# Bar chart for temperature\n",
        "sns.barplot(x=\"City\", y=\"Temperature (C)\", data=df_weather, palette=\"coolwarm\")\n",
        "plt.title(\"Temperature by City\")\n",
        "plt.ylabel(\"Temperature (°C)\")\n",
        "plt.xlabel(\"City\")\n",
        "plt.show()"
      ],
      "metadata": {
        "colab": {
          "base_uri": "https://localhost:8080/",
          "height": 579
        },
        "id": "pVgwgXSBcC6m",
        "outputId": "81d7c25d-1a4e-469f-b025-53b409b0157b"
      },
      "execution_count": null,
      "outputs": [
        {
          "output_type": "stream",
          "name": "stderr",
          "text": [
            "<ipython-input-39-23ad0500e185>:2: FutureWarning: \n",
            "\n",
            "Passing `palette` without assigning `hue` is deprecated and will be removed in v0.14.0. Assign the `x` variable to `hue` and set `legend=False` for the same effect.\n",
            "\n",
            "  sns.barplot(x=\"City\", y=\"Temperature (C)\", data=df_weather, palette=\"coolwarm\")\n"
          ]
        },
        {
          "output_type": "display_data",
          "data": {
            "text/plain": [
              "<Figure size 640x480 with 1 Axes>"
            ],
            "image/png": "[encoded data removed]"
          },
          "metadata": {}
        }
      ]
    },
    {
      "cell_type": "markdown",
      "source": [
        "**Humidity Bar Chart:**"
      ],
      "metadata": {
        "id": "zra3vdwIf7e5"
      }
    },
    {
      "cell_type": "code",
      "source": [
        "# Bar chart for humidity\n",
        "sns.barplot(x=\"City\", y=\"Humidity (%)\", data=df_weather, palette=\"Blues\")\n",
        "plt.title(\"Humidity by City\")\n",
        "plt.ylabel(\"Humidity (%)\")\n",
        "plt.xlabel(\"City\")\n",
        "plt.show()"
      ],
      "metadata": {
        "colab": {
          "base_uri": "https://localhost:8080/",
          "height": 579
        },
        "id": "cMY0LhuncNL0",
        "outputId": "58af5200-2431-4809-8ea7-7b473de96b72"
      },
      "execution_count": null,
      "outputs": [
        {
          "output_type": "stream",
          "name": "stderr",
          "text": [
            "<ipython-input-41-28c5f164fdb2>:2: FutureWarning: \n",
            "\n",
            "Passing `palette` without assigning `hue` is deprecated and will be removed in v0.14.0. Assign the `x` variable to `hue` and set `legend=False` for the same effect.\n",
            "\n",
            "  sns.barplot(x=\"City\", y=\"Humidity (%)\", data=df_weather, palette=\"Blues\")\n"
          ]
        },
        {
          "output_type": "display_data",
          "data": {
            "text/plain": [
              "<Figure size 640x480 with 1 Axes>"
            ],
            "image/png": "[encoded data removed]"
          },
          "metadata": {}
        }
      ]
    },
    {
      "cell_type": "markdown",
      "source": [
        "### Step 4: Interactive Exploration\n",
        "Enable interactive exploration of city-specific weather data using widgets."
      ],
      "metadata": {
        "id": "xDfSnWrGwaMu"
      }
    },
    {
      "cell_type": "code",
      "source": [
        "# Interactive City Selection\n",
        "def show_city_weather(selected_city):\n",
        "    city_data = df_weather[df_weather[\"City\"] == selected_city]\n",
        "    if not city_data.empty:\n",
        "        print(city_data.to_string(index=False))\n",
        "        plt.bar([\"Temperature (C)\", \"Humidity (%)\"],\n",
        "                [city_data[\"Temperature (C)\"].values[0], city_data[\"Humidity (%)\"].values[0]],\n",
        "                color=[\"blue\", \"green\"])\n",
        "        plt.title(f\"Weather in {selected_city}\")\n",
        "        plt.show()\n",
        "\n",
        "interact(show_city_weather, selected_city=cities)"
      ],
      "metadata": {
        "colab": {
          "base_uri": "https://localhost:8080/",
          "height": 606,
          "referenced_widgets": [
            "e1381e7bc3e84ac19045a7cf6f8f28ec",
            "e1afcb316ad84a03bce919b543aca800",
            "03be8498f21347d1a50898a53e3db34c",
            "3e2065e8864f40b790e634f48e83a909",
            "34f1e22fc2664b5ab412ab93f2339043",
            "bef84cac8e384710b518da98db80a9a3",
            "01f85b09cabc4f17839bc9492262bcbf"
          ]
        },
        "id": "ia1Ftcgqc1CB",
        "outputId": "7a6b3807-386c-4698-f3b2-b614bc2c9139"
      },
      "execution_count": null,
      "outputs": [
        {
          "output_type": "display_data",
          "data": {
            "text/plain": [
              "interactive(children=(Dropdown(description='selected_city', options=('New York', 'Los Angeles', 'Chicago', 'Ho…"
            ],
            "application/vnd.jupyter.widget-view+json": {
              "version_major": 2,
              "version_minor": 0,
              "model_id": "e1381e7bc3e84ac19045a7cf6f8f28ec"
            }
          },
          "metadata": {}
        },
        {
          "output_type": "execute_result",
          "data": {
            "text/plain": [
              "<function __main__.show_city_weather(selected_city)>"
            ],
            "text/html": [
              "<div style=\"max-width:800px; border: 1px solid var(--colab-border-color);\"><style>\n",
              "      pre.function-repr-contents {\n",
              "        overflow-x: auto;\n",
              "        padding: 8px 12px;\n",
              "        max-height: 500px;\n",
              "      }\n",
              "\n",
              "      pre.function-repr-contents.function-repr-contents-collapsed {\n",
              "        cursor: pointer;\n",
              "        max-height: 100px;\n",
              "      }\n",
              "    </style>\n",
              "    <pre style=\"white-space: initial; background:\n",
              "         var(--colab-secondary-surface-color); padding: 8px 12px;\n",
              "         border-bottom: 1px solid var(--colab-border-color);\"><b>show_city_weather</b><br/>def show_city_weather(selected_city)</pre><pre class=\"function-repr-contents function-repr-contents-collapsed\" style=\"\"><a class=\"filepath\" style=\"display:none\" href=\"#\">/content/&lt;ipython-input-44-5bcc4cba15de&gt;</a>&lt;no docstring&gt;</pre></div>"
            ]
          },
          "metadata": {},
          "execution_count": 44
        }
      ]
    },
    {
      "cell_type": "markdown",
      "source": [
        "##**Conclusion**\n",
        "This project demonstrates the ability to fetch, analyze, and visualize real-time data using APIs. It showcases skills in data analysis, visualization, and interactivity, making it a strong portfolio piece for Data Analyst and Data Scientist roles.\n",
        "\n",
        "##**Future Enhancements**\n",
        "- Include additional metrics such as wind speed and precipitation.\n",
        "\n",
        "- Analyze historical weather data for trend detection and forecasting.\n",
        "\n",
        "- Automate updates using scheduled scripts."
      ],
      "metadata": {
        "id": "MOklLVxLwdZE"
      }
    },
    {
      "cell_type": "markdown",
      "source": [
        "## **How to Run the Project**\n",
        "1. Install dependencies: !pip install requests matplotlib seaborn pandas\n",
        "\n",
        "2. Replace your_api_key_here in the code with your OpenWeatherMap API key.\n",
        "\n",
        "3. Run the notebook cells in sequence to fetch, analyze, and visualize weather data."
      ],
      "metadata": {
        "id": "qMljQqZAenhd"
      }
    }
  ]
}